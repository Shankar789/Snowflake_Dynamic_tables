{
 "metadata": {
  "kernelspec": {
   "display_name": "Streamlit Notebook",
   "name": "streamlit"
  }
 },
 "nbformat_minor": 5,
 "nbformat": 4,
 "cells": [
  {
   "cell_type": "code",
   "id": "463b403b-7daa-426f-a42b-3dff2a73bee1",
   "metadata": {
    "language": "sql",
    "name": "DATA_PREP",
    "collapsed": false,
    "codeCollapsed": false
   },
   "outputs": [],
   "source": "-- ---data setup---\n\n-- create Or Replace transient database US_SALES_DATA;\n-- create Or Replace transient schema ZONE_A;\n\n-- CREATE or replace Transient TABLE US_SALES_DATA.ZONE_A.Sales (\n--     ProductId INT,\n--     MarketId INT,\n--     TimeId INT,\n--     NumStoreOperating INT,\n--     SoldUnits INT,\n--     TotalPrice DECIMAL(10, 2)\n-- );\n\n-- CREATE or replace Transient TABLE US_SALES_DATA.ZONE_A.product (\n--     ProductId INT,\n--     ProductName VARCHAR(100)\n-- );\n\n-- CREATE or replace Transient TABLE US_SALES_DATA.ZONE_A.market (\n--     MarketId INT,\n--     MarketName VARCHAR(100)\n-- );\n\n-- CREATE or replace Transient TABLE US_SALES_DATA.ZONE_A.time (\n--     TimeId INT,\n--     TimeName VARCHAR(100),\n--     WeekId INT,\n--     WeekName VARCHAR(100)\n-- );\n\n-- INSERT INTO US_SALES_DATA.ZONE_A.product (ProductId, ProductName)\n-- VALUES\n-- (100,'COKE'),\n-- (101,'PEPSI');\n\n-- INSERT INTO US_SALES_DATA.ZONE_A.market (MarketId, MarketName)\n-- VALUES\n-- (200,'STORE_A');\n\ntruncate table US_SALES_DATA.ZONE_A.Time;\ntruncate table US_SALES_DATA.ZONE_A.Sales;\n\n\nINSERT INTO US_SALES_DATA.ZONE_A.Time (TimeId,TimeName,WeekId,WeekName)\nvalues\n(300,'01-SEPT-2024',1,'01-SEPT-2024 <=> 07-SEPT-2024'),\n(301,'02-SEPT-2024',1,'01-SEPT-2024 <=> 07-SEPT-2024'),\n(302,'03-SEPT-2024',1,'01-SEPT-2024 <=> 07-SEPT-2024'),\n(303,'04-SEPT-2024',1,'01-SEPT-2024 <=> 07-SEPT-2024'),\n(304,'05-SEPT-2024',1,'01-SEPT-2024 <=> 07-SEPT-2024'),\n(305,'06-SEPT-2024',1,'01-SEPT-2024 <=> 07-SEPT-2024'),\n(306,'07-SEPT-2024',1,'01-SEPT-2024 <=> 07-SEPT-2024'),\n(307,'08-SEPT-2024',2,'08-SEPT-2024 <=> 14-SEPT-2024'),\n(308,'09-SEPT-2024',2,'08-SEPT-2024 <=> 14-SEPT-2024'),\n(309,'10-SEPT-2024',2,'08-SEPT-2024 <=> 14-SEPT-2024'),\n(310,'11-SEPT-2024',2,'08-SEPT-2024 <=> 14-SEPT-2024'),\n(311,'12-SEPT-2024',2,'08-SEPT-2024 <=> 14-SEPT-2024'),\n(312,'13-SEPT-2024',2,'08-SEPT-2024 <=> 14-SEPT-2024'),\n(313,'14-SEPT-2024',2,'08-SEPT-2024 <=> 14-SEPT-2024');\n\nINSERT INTO US_SALES_DATA.ZONE_A.Sales (ProductId, MarketId, TimeId, NumStoreOperating, SoldUnits, TotalPrice)\nVALUES\n(100, 200, 300, 5, 101, 511.00),\n(100, 200, 301, 5, 127, 600.00),\n(100, 200, 302, 3, 80, 811.00),\n(100, 200, 303, 3, 90, 900.00),\n(100, 200, 304, 4, 151, 751.00),\n(100, 200, 305, 4, 160, 800.00),\n(100, 200, 306, 2, 60, 600.00),\n(100, 200, 307, 2, 70, 700.00),\n(100, 200, 308, 3, 90, 900.00),\n(100, 200, 309, 4, 151, 750.00),\n(100, 200, 310, 4, 160, 800.00),\n(100, 200, 311, 4, 150, 750.00),\n(100, 200, 312, 4, 160, 800.00),\n(100, 200, 313, 2, 60, 600.00),\n(101, 200, 300, 5, 100, 500.00),\n(101, 200, 301, 5, 120, 611.00),\n(101, 200, 302, 3, 81, 800.00),\n(101, 200, 303, 3, 90, 900.00),\n(101, 200, 304, 4, 151, 750.00),\n(101, 200, 305, 4, 161, 801.00),\n(101, 200, 306, 2, 60, 600.00),\n(101, 200, 307, 2, 70, 711.00),\n(101, 200, 308, 3, 91, 911.00),\n(101, 200, 309, 4, 150, 750.00),\n(101, 200, 310, 4, 161, 811.00),\n(101, 200, 311, 4, 150, 751.00),\n(101, 200, 312, 4, 161, 800.00),\n(101, 200, 313, 2, 60, 600.00);",
   "execution_count": null
  },
  {
   "cell_type": "code",
   "id": "cf232d43-ceb7-44c0-8be9-4758c95a3d6a",
   "metadata": {
    "language": "sql",
    "name": "DISPLAY_SALES"
   },
   "outputs": [],
   "source": "SELECT * FROM US_SALES_DATA.ZONE_A.SALES",
   "execution_count": null
  },
  {
   "cell_type": "code",
   "id": "f033174f-b291-4d1f-8bcc-9a3a4885a3b7",
   "metadata": {
    "language": "sql",
    "name": "DISPLAY_PRODUCT"
   },
   "outputs": [],
   "source": "SELECT * FROM US_SALES_DATA.ZONE_A.PRODUCT",
   "execution_count": null
  },
  {
   "cell_type": "code",
   "id": "38ae219b-aeb3-40ea-93b9-d427abe0c75c",
   "metadata": {
    "language": "sql",
    "name": "DISPLAY_MARKET"
   },
   "outputs": [],
   "source": "SELECT * FROM US_SALES_DATA.ZONE_A.MARKET",
   "execution_count": null
  },
  {
   "cell_type": "code",
   "id": "7c9140d9-d691-49cb-a9ca-d004cfdfdfd8",
   "metadata": {
    "language": "sql",
    "name": "DISPLAY_TIME"
   },
   "outputs": [],
   "source": "SELECT * FROM US_SALES_DATA.ZONE_A.TIME",
   "execution_count": null
  },
  {
   "cell_type": "code",
   "id": "da1a9c54-33b9-4d6e-be06-1eb27120282f",
   "metadata": {
    "language": "sql",
    "name": "CREATE_PIPELINE"
   },
   "outputs": [],
   "source": "CREATE OR REPLACE TRANSIENT DYNAMIC TABLE US_SALES_DATA.ZONE_A.DYNAMIC_SALES_PROD\n  TARGET_LAG = 'DOWNSTREAM'\n  WAREHOUSE = COMPUTE_WH\n  REFRESH_MODE = INCREMENTAL\n  INITIALIZE = on_create\n  AS\n    SELECT PRODUCTNAME,MARKETID,TIMEID,NumStoreOperating,SoldUnits,TotalPrice\n    FROM US_SALES_DATA.ZONE_A.SALES s\n    inner join US_SALES_DATA.ZONE_A.PRODUCT p\n    on s.productid=p.productid;\n\nCREATE OR REPLACE TRANSIENT DYNAMIC TABLE US_SALES_DATA.ZONE_A.DYNAMIC_SALES_PROD_MRKT\n  TARGET_LAG = 'DOWNSTREAM'\n  WAREHOUSE = COMPUTE_WH\n  REFRESH_MODE = INCREMENTAL\n  INITIALIZE = on_create\n  AS\n    SELECT PRODUCTNAME,MARKETNAME,TIMEID,NumStoreOperating,SoldUnits,TotalPrice\n    FROM US_SALES_DATA.ZONE_A.DYNAMIC_SALES_PROD s\n    inner join US_SALES_DATA.ZONE_A.MARKET m\n    on s.marketid=m.marketid;\n\nCREATE OR REPLACE TRANSIENT DYNAMIC TABLE US_SALES_DATA.ZONE_A.DYNAMIC_SALES_PROD_MRKT_WEEK\n  TARGET_LAG = 'DOWNSTREAM'\n  WAREHOUSE = COMPUTE_WH\n  REFRESH_MODE = INCREMENTAL\n  INITIALIZE = on_create\n  AS\n    SELECT PRODUCTNAME,MARKETNAME,WEEKNAME,NumStoreOperating,SoldUnits,TotalPrice\n    FROM US_SALES_DATA.ZONE_A.DYNAMIC_SALES_PROD_MRKT s\n    inner join US_SALES_DATA.ZONE_A.TIME t\n    on s.timeid=t.timeid;    \n\nCREATE OR REPLACE TRANSIENT DYNAMIC TABLE US_SALES_DATA.ZONE_A.DYNAMIC_SALES\n  TARGET_LAG = '60 seconds'\n  WAREHOUSE = COMPUTE_WH\n  REFRESH_MODE = INCREMENTAL\n  INITIALIZE = on_create\n  AS\n    SELECT PRODUCTNAME,MARKETNAME,WEEKNAME,sum(NumStoreOperating) NumStoreOperating,sum(SoldUnits) SoldUnits,sum(TotalPrice) TotalPrice\n    FROM US_SALES_DATA.ZONE_A.DYNAMIC_SALES_PROD_MRKT_WEEK\n    group by PRODUCTNAME,MARKETNAME,WEEKNAME;",
   "execution_count": null
  },
  {
   "cell_type": "code",
   "id": "4f424936-322d-4f17-a466-a9ea8b6202f6",
   "metadata": {
    "language": "sql",
    "name": "DYNAMIC_SALES_VALIDATION"
   },
   "outputs": [],
   "source": "select * from US_SALES_DATA.ZONE_A.DYNAMIC_SALES",
   "execution_count": null
  },
  {
   "cell_type": "code",
   "id": "78bb0a57-f495-42d9-9ff4-97c4f1dcc7df",
   "metadata": {
    "language": "sql",
    "name": "INSERT_NEW_DATA_IN_SOURCE"
   },
   "outputs": [],
   "source": "INSERT INTO US_SALES_DATA.ZONE_A.Sales (ProductId, MarketId, TimeId, NumStoreOperating, SoldUnits, TotalPrice)\nVALUES\n(100, 200, 314, 5, 101, 512.00),\n(100, 200, 315, 5, 127, 600.00),\n(100, 200, 316, 3, 80, 812.00),\n(100, 200, 317, 3, 90, 902.00),\n(100, 200, 318, 4, 151, 751.00),\n(100, 200, 319, 4, 160, 800.00),\n(100, 200, 320, 2, 60, 602.00),\n(101, 200, 314, 5, 100, 500.00),\n(101, 200, 315, 5, 120, 622.00),\n(101, 200, 316, 3, 81, 800.00),\n(101, 200, 317, 3, 90, 902.00),\n(101, 200, 318, 4, 151, 752.00),\n(101, 200, 319, 4, 161, 801.00),\n(101, 200, 320, 2, 60, 602.00);\n\nINSERT INTO US_SALES_DATA.ZONE_A.Time (TimeId,TimeName,WeekId,WeekName)\nvalues\n(314,'15-SEPT-2024',3,'15-SEPT-2024 <=> 21-SEPT-2024'),\n(315,'16-SEPT-2024',3,'15-SEPT-2024 <=> 21-SEPT-2024'),\n(316,'17-SEPT-2024',3,'15-SEPT-2024 <=> 21-SEPT-2024'),\n(317,'18-SEPT-2024',3,'15-SEPT-2024 <=> 21-SEPT-2024'),\n(318,'19-SEPT-2024',3,'15-SEPT-2024 <=> 21-SEPT-2024'),\n(319,'20-SEPT-2024',3,'15-SEPT-2024 <=> 21-SEPT-2024'),\n(320,'21-SEPT-2024',3,'15-SEPT-2024 <=> 21-SEPT-2024');",
   "execution_count": null
  },
  {
   "cell_type": "code",
   "id": "03cbdc86-a5e6-4d6e-8d42-2124207a3c0d",
   "metadata": {
    "language": "sql",
    "name": "DYNAMIC_TABLE_VALIDATION_2"
   },
   "outputs": [],
   "source": "select * from US_SALES_DATA.ZONE_A.DYNAMIC_SALES",
   "execution_count": null
  },
  {
   "cell_type": "code",
   "id": "14cbbaa9-5eeb-4ff3-8b96-aaaa5e979057",
   "metadata": {
    "language": "sql",
    "name": "UPDATE_BASE_TABLE"
   },
   "outputs": [],
   "source": "update US_SALES_DATA.ZONE_A.PRODUCT set productName='RED COKE' where productName='COKE'",
   "execution_count": null
  },
  {
   "cell_type": "code",
   "id": "04602bba-1a9e-49a9-b601-c4e1bd61c38f",
   "metadata": {
    "language": "sql",
    "name": "VALIDATE_BASE_TABLE",
    "collapsed": false
   },
   "outputs": [],
   "source": "select * from US_SALES_DATA.ZONE_A.PRODUCT",
   "execution_count": null
  },
  {
   "cell_type": "code",
   "id": "7b17e4cf-eb49-43cd-9bad-2d588cb2c4bb",
   "metadata": {
    "language": "sql",
    "name": "MANUAL_REFRESH"
   },
   "outputs": [],
   "source": "-- ALTER DYNAMIC TABLE IF EXISTS US_SALES_DATA.ZONE_A.DYNAMIC_SALES_PROD REFRESH;\n-- ALTER DYNAMIC TABLE IF EXISTS US_SALES_DATA.ZONE_A.DYNAMIC_SALES_PROD_MRKT REFRESH;\n-- ALTER DYNAMIC TABLE IF EXISTS US_SALES_DATA.ZONE_A.DYNAMIC_SALES_PROD_MRKT_WEEK REFRESH;\nALTER DYNAMIC TABLE IF EXISTS US_SALES_DATA.ZONE_A.DYNAMIC_SALES REFRESH;",
   "execution_count": null
  },
  {
   "cell_type": "code",
   "id": "0029c564-6513-4e23-95da-12539700cbd3",
   "metadata": {
    "language": "sql",
    "name": "cell1"
   },
   "outputs": [],
   "source": "select * from US_SALES_DATA.ZONE_A.DYNAMIC_SALES",
   "execution_count": null
  },
  {
   "cell_type": "code",
   "id": "c3f6836b-e0b0-4b75-b72f-9d420c798e27",
   "metadata": {
    "language": "sql",
    "name": "MANUAL_SUSPEND"
   },
   "outputs": [],
   "source": "ALTER DYNAMIC TABLE IF EXISTS US_SALES_DATA.ZONE_A.DYNAMIC_SALES_PROD SUSPEND;\nALTER DYNAMIC TABLE IF EXISTS US_SALES_DATA.ZONE_A.DYNAMIC_SALES_PROD_MRKT SUSPEND;\nALTER DYNAMIC TABLE IF EXISTS US_SALES_DATA.ZONE_A.DYNAMIC_SALES_PROD_MRKT_WEEK SUSPEND;\nALTER DYNAMIC TABLE IF EXISTS US_SALES_DATA.ZONE_A.DYNAMIC_SALES SUSPEND;",
   "execution_count": null
  },
  {
   "cell_type": "code",
   "id": "743b7af6-69a3-46c5-9eae-c643cc96ed2d",
   "metadata": {
    "language": "sql",
    "name": "MANUAL_RESUME"
   },
   "outputs": [],
   "source": "ALTER DYNAMIC TABLE IF EXISTS US_SALES_DATA.ZONE_A.DYNAMIC_SALES_PROD RESUME;\nALTER DYNAMIC TABLE IF EXISTS US_SALES_DATA.ZONE_A.DYNAMIC_SALES_PROD_MRKT RESUME;\nALTER DYNAMIC TABLE IF EXISTS US_SALES_DATA.ZONE_A.DYNAMIC_SALES_PROD_MRKT_WEEK RESUME;\nALTER DYNAMIC TABLE IF EXISTS US_SALES_DATA.ZONE_A.DYNAMIC_SALES RESUME;",
   "execution_count": null
  },
  {
   "cell_type": "code",
   "id": "fab61c37-f517-44e1-ba38-5c48bc0d45dd",
   "metadata": {
    "language": "sql",
    "name": "DROP"
   },
   "outputs": [],
   "source": "DROP DYNAMIC TABLE IF EXISTS US_SALES_DATA.ZONE_A.DYNAMIC_SALES_PROD;\nDROP DYNAMIC TABLE IF EXISTS US_SALES_DATA.ZONE_A.DYNAMIC_SALES_PROD_MRKT;\nDROP DYNAMIC TABLE IF EXISTS US_SALES_DATA.ZONE_A.DYNAMIC_SALES_PROD_MRKT_WEEK;\nDROP DYNAMIC TABLE IF EXISTS US_SALES_DATA.ZONE_A.DYNAMIC_SALES;",
   "execution_count": null
  }
 ]
}